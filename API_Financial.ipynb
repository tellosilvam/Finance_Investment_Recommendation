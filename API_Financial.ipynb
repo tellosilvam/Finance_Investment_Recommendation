{
    "metadata": {
        "kernelspec": {
            "display_name": "Python 3",
            "language": "python",
            "name": "python3"
        },
        "language_info": {
            "codemirror_mode": {
                "name": "ipython",
                "version": 3
            },
            "file_extension": ".py",
            "mimetype": "text/x-python",
            "name": "python",
            "nbconvert_exporter": "python",
            "pygments_lexer": "ipython3",
            "version": "3.12.5"
        }
    },
    "nbformat_minor": 2,
    "nbformat": 4,
    "cells": [
        {
            "cell_type": "code",
            "source": [
                "import yfinance as yf\n",
                "import pandas as pd\n",
                "\n",
                "# Define the tickers for AMEX, VISA, and MASTERCARD\n",
                "tickers = ['AXP', 'V', 'MA']\n",
                "\n",
                "# Download data for the tickers\n",
                "try:\n",
                "    data = yf.download(tickers, start='2010-01-01', end='2024-08-30', group_by='ticker')`  \n",
                "except Exception as e:\n",
                "    print(f\"Failed to download data: {e}\")\n",
                "    data = None\n",
                "\n",
                "# Save each dataset to CSV if data is available\n",
                "if data is not None:\n",
                "    for ticker in tickers:\n",
                "        if ticker in data:\n",
                "            data[ticker].to_csv(f'{ticker}_stock_data.csv')\n",
                "        else:\n",
                "            print(f\"No data for {ticker}\")\n",
                "\n",
                "    # If you want the data in a single DataFrame\n",
                "    df = pd.DataFrame()\n",
                "    for ticker in tickers:\n",
                "        if ticker in data:\n",
                "            stock_data = data[ticker].reset_index()\n",
                "            stock_data['Ticker'] = ticker\n",
                "            df = pd.concat([df, stock_data], ignore_index=True)\n",
                "\n",
                "    # Save the combined dataset to a CSV (optional)\n",
                "    df.to_csv('combined_stock_data.csv', index=False)\n",
                "\n",
                "    # Preview the combined dataset\n",
                "    print(df.head())\n",
                "else:\n",
                "    print(\"No data was downloaded.\")"
            ],
            "metadata": {
                "azdata_cell_guid": "5f4b8a7c-926b-4d9d-b347-afefcb587e52",
                "language": "python"
            },
            "outputs": [
                {
                    "output_type": "stream",
                    "name": "stderr",
                    "text": "[*********************100%***********************]  3 of 3 completed"
                },
                {
                    "output_type": "stream",
                    "name": "stdout",
                    "text": "Price                      Date       Open       High        Low      Close  \\\n0     2010-01-04 00:00:00+00:00  40.810001  41.099998  40.389999  40.919998   \n1     2010-01-05 00:00:00+00:00  40.830002  41.230000  40.369999  40.830002   \n2     2010-01-06 00:00:00+00:00  41.230000  41.669998  41.169998  41.490002   \n3     2010-01-07 00:00:00+00:00  41.259998  42.240002  41.110001  41.980000   \n4     2010-01-08 00:00:00+00:00  41.759998  42.480000  41.400002  41.950001   \n\nPrice  Adj Close    Volume Ticker  \n0      32.992161   6894300    AXP  \n1      32.919605  10641200    AXP  \n2      33.451736   8399400    AXP  \n3      33.994282   8981700    AXP  \n4      33.969990   7907700    AXP  \n"
                },
                {
                    "output_type": "stream",
                    "name": "stderr",
                    "text": "\n"
                }
            ],
            "execution_count": 1
        },
        {
            "cell_type": "code",
            "source": [],
            "metadata": {
                "azdata_cell_guid": "be7d138e-4a6e-423e-93a1-4886c2fee4ff",
                "language": "python"
            },
            "outputs": [],
            "execution_count": null
        }
    ]
}